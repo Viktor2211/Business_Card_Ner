{
 "cells": [
  {
   "cell_type": "code",
   "execution_count": 1,
   "id": "266d2baa",
   "metadata": {},
   "outputs": [],
   "source": [
    "import pandas as pd\n",
    "import string\n",
    "import warnings\n",
    "\n",
    "warnings.filterwarnings('ignore')"
   ]
  },
  {
   "cell_type": "code",
   "execution_count": 2,
   "id": "bd2d6121",
   "metadata": {},
   "outputs": [],
   "source": [
    "with open('businessCard.txt', mode='r', encoding='utf8', errors='ignore') as f:\n",
    "    text = f.read()"
   ]
  },
  {
   "cell_type": "code",
   "execution_count": 3,
   "id": "1f8ff6fe",
   "metadata": {},
   "outputs": [],
   "source": [
    "data=list(map(lambda x:x.split(\"\\t\"), text.split('\\n')))"
   ]
  },
  {
   "cell_type": "code",
   "execution_count": 8,
   "id": "d311b2ff",
   "metadata": {
    "scrolled": false
   },
   "outputs": [],
   "source": [
    "df = pd.DataFrame(data[1:], columns=data[0])"
   ]
  },
  {
   "cell_type": "markdown",
   "id": "7de448b1",
   "metadata": {},
   "source": [
    "Clean text\n",
    "    remove white space\n",
    "    remove unwanted special characters"
   ]
  },
  {
   "cell_type": "code",
   "execution_count": 5,
   "id": "f2919b9e",
   "metadata": {},
   "outputs": [],
   "source": [
    "whitespaces = string.whitespace #' \\t\\n\\r\\x0b\\x0c'\n",
    "punctuation = string.punctuation #'!\"#$%&\\'()*+,-./:;<=>?@[\\\\]^_`{|}~'\n",
    "\n",
    "tableWhitespace = str.maketrans('', '', whitespaces)\n",
    "tablePunctuation = str.maketrans('', '', punctuation)\n",
    "\n",
    "def cleanText(txt):\n",
    "    text = str(txt)\n",
    "#     text = text.lower()\n",
    "    removeWhitespaces = text.translate(tableWhitespace)\n",
    "    removePunctuation = removeWhitespaces.translate(tablePunctuation)\n",
    "    return str(removePunctuation)"
   ]
  },
  {
   "cell_type": "code",
   "execution_count": 11,
   "id": "5c10c56b",
   "metadata": {},
   "outputs": [],
   "source": [
    "df['text'] = df['text'].apply(cleanText)\n",
    "data_clean = df.query(\"text!='' \")\n",
    "data_clean.dropna(inplace=True)"
   ]
  },
  {
   "cell_type": "code",
   "execution_count": 29,
   "id": "11b94459",
   "metadata": {},
   "outputs": [
    {
     "data": {
      "text/plain": [
       "array([['0404852', 'B-PHONE'],\n",
       "       ['8881', 'I-PHONE'],\n",
       "       ['90309', 'B-PHONE'],\n",
       "       ['52549', 'I-PHONE'],\n",
       "       ['Fi', 'O'],\n",
       "       ['laurelsoverseaseducation', 'O'],\n",
       "       ['LAURELS', 'B-ORG'],\n",
       "       ['OVERSEAS', 'I-ORG'],\n",
       "       ['EDUCATIONAL', 'I-ORG'],\n",
       "       ['CONSULTANCY', 'I-ORG'],\n",
       "       ['PVT', 'I-ORG'],\n",
       "       ['LTD', 'I-ORG'],\n",
       "       ['Sea', 'O'],\n",
       "       ['UK', 'O'],\n",
       "       ['AUSTRALIA', 'O'],\n",
       "       ['CANADA', 'O'],\n",
       "       ['IRELAND', 'O'],\n",
       "       ['wwwlaurelseducationcom', 'B-WEB'],\n",
       "       ['infolaurelseducationcom', 'B-EMAIL']], dtype=object)"
      ]
     },
     "execution_count": 29,
     "metadata": {},
     "output_type": "execute_result"
    }
   ],
   "source": [
    "group = data_clean.groupby(by='id')\n",
    "grouparray = group.get_group('000.jpeg')[['text', 'tag']].values\n",
    "grouparray"
   ]
  },
  {
   "cell_type": "code",
   "execution_count": null,
   "id": "a7a28080",
   "metadata": {},
   "outputs": [],
   "source": [
    "#convert data into spacy format\n",
    "def init_cards():\n",
    "    cards = group.groups.keys()\n",
    "    allCardsData = []\n",
    "    for card in cards:\n",
    "        cardData = []\n",
    "        grouparray = group.get_group(card)[['text', 'tag']].values\n",
    "        content = ''\n",
    "        annotations = {'entities':[]}\n",
    "        start = 0\n",
    "        end = 0\n",
    "        for text, label in grouparray:\n",
    "            text = str(text)\n",
    "            stringLen = len(text)+1\n",
    "\n",
    "            start = end\n",
    "            end = start+stringLen\n",
    "\n",
    "            if label !='O':\n",
    "                annot = (start, end-1,label)\n",
    "                annotations['entities'].append(annot)\n",
    "            content = content+text+' '\n",
    "        cardData=(content, annotations)\n",
    "        # print(cardData)\n",
    "        allCardsData.append(cardData)\n",
    "    return allCardsData"
   ]
  }
 ],
 "metadata": {
  "kernelspec": {
   "display_name": "Python 3 (ipykernel)",
   "language": "python",
   "name": "python3"
  },
  "language_info": {
   "codemirror_mode": {
    "name": "ipython",
    "version": 3
   },
   "file_extension": ".py",
   "mimetype": "text/x-python",
   "name": "python",
   "nbconvert_exporter": "python",
   "pygments_lexer": "ipython3",
   "version": "3.11.0"
  }
 },
 "nbformat": 4,
 "nbformat_minor": 5
}
