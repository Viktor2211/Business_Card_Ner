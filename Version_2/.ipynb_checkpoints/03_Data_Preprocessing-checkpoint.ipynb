{
 "cells": [
  {
   "cell_type": "code",
   "execution_count": 1,
   "id": "c334ffcd",
   "metadata": {},
   "outputs": [],
   "source": [
    "import pandas as pd\n",
    "import string\n",
    "import warnings\n",
    "\n",
    "warnings.filterwarnings('ignore')"
   ]
  },
  {
   "cell_type": "code",
   "execution_count": 2,
   "id": "69df3ade",
   "metadata": {},
   "outputs": [],
   "source": [
    "with open('businessCard.txt', mode='r', encoding='utf8', errors='ignore') as f:\n",
    "    text = f.read()"
   ]
  },
  {
   "cell_type": "code",
   "execution_count": 3,
   "id": "d1b19e22",
   "metadata": {},
   "outputs": [],
   "source": [
    "data=list(map(lambda x:x.split(\"\\t\"), text.split('\\n')))"
   ]
  },
  {
   "cell_type": "code",
   "execution_count": 8,
   "id": "fb02c817",
   "metadata": {
    "scrolled": false
   },
   "outputs": [],
   "source": [
    "df = pd.DataFrame(data[1:], columns=data[0])"
   ]
  },
  {
   "cell_type": "markdown",
   "id": "2fc6975e",
   "metadata": {},
   "source": [
    "Clean text\n",
    "    remove white space\n",
    "    remove unwanted special characters"
   ]
  },
  {
   "cell_type": "code",
   "execution_count": 5,
   "id": "bdcf865e",
   "metadata": {},
   "outputs": [],
   "source": [
    "whitespaces = string.whitespace #' \\t\\n\\r\\x0b\\x0c'\n",
    "punctuation = string.punctuation #'!\"#$%&\\'()*+,-./:;<=>?@[\\\\]^_`{|}~'\n",
    "\n",
    "tableWhitespace = str.maketrans('', '', whitespaces)\n",
    "tablePunctuation = str.maketrans('', '', punctuation)\n",
    "\n",
    "def cleanText(txt):\n",
    "    text = str(txt)\n",
    "#     text = text.lower()\n",
    "    removeWhitespaces = text.translate(tableWhitespace)\n",
    "    removePunctuation = removeWhitespaces.translate(tablePunctuation)\n",
    "    return str(removePunctuation)"
   ]
  },
  {
   "cell_type": "code",
   "execution_count": 11,
   "id": "2f716e32",
   "metadata": {},
   "outputs": [],
   "source": [
    "df['text'] = df['text'].apply(cleanText)\n",
    "data_clean = df.query(\"text!='' \")\n",
    "data_clean.dropna(inplace=True)"
   ]
  },
  {
   "cell_type": "code",
   "execution_count": 28,
   "id": "3ac189a4",
   "metadata": {},
   "outputs": [],
   "source": [
    "group = data_clean.groupby(by='id')\n",
    "grouparray = group.get_group('000.jpeg')[['text', 'tag']].values\n",
    "grouparray"
   ]
  },
  {
   "cell_type": "code",
   "execution_count": null,
   "id": "99d2462d",
   "metadata": {},
   "outputs": [],
   "source": [
    "#convert data into spacy format\n",
    "def init_cards():\n",
    "    cards = group.groups.keys()\n",
    "    allCardsData = []\n",
    "    for card in cards:\n",
    "        cardData = []\n",
    "        grouparray = group.get_group(card)[['text', 'tag']].values\n",
    "        content = ''\n",
    "        annotations = {'entities':[]}\n",
    "        start = 0\n",
    "        end = 0\n",
    "        for text, label in grouparray:\n",
    "            text = str(text)\n",
    "            stringLen = len(text)+1\n",
    "\n",
    "            start = end\n",
    "            end = start+stringLen\n",
    "\n",
    "            if label !='O':\n",
    "                annot = (start, end-1,label)\n",
    "                annotations['entities'].append(annot)\n",
    "            content = content+text+' '\n",
    "        cardData=(content, annotations)\n",
    "        # print(cardData)\n",
    "        allCardsData.append(cardData)\n",
    "    return allCardsData"
   ]
  }
 ],
 "metadata": {
  "kernelspec": {
   "display_name": "Python 3 (ipykernel)",
   "language": "python",
   "name": "python3"
  },
  "language_info": {
   "codemirror_mode": {
    "name": "ipython",
    "version": 3
   },
   "file_extension": ".py",
   "mimetype": "text/x-python",
   "name": "python",
   "nbconvert_exporter": "python",
   "pygments_lexer": "ipython3",
   "version": "3.11.0"
  }
 },
 "nbformat": 4,
 "nbformat_minor": 5
}
