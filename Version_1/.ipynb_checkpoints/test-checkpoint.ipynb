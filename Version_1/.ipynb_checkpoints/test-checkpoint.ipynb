{
 "cells": [
  {
   "cell_type": "code",
   "execution_count": 18,
   "id": "8d5fdcfb",
   "metadata": {},
   "outputs": [
    {
     "data": {
      "text/plain": [
       "{'1': {1, 2, 3, 4, 5, 6, 7, 8, 9},\n",
       " '2': {2, 4, 6, 8, 10, 12, 14, 16, 18},\n",
       " '3': {3, 6, 9, 12, 15, 18, 21, 24, 27},\n",
       " '4': {4, 8, 12, 16, 20, 24, 28, 32, 36},\n",
       " '5': {5, 10, 15, 20, 25, 30, 35, 40, 45},\n",
       " '6': {6, 12, 18, 24, 30, 36, 42, 48, 54},\n",
       " '7': {7, 14, 21, 28, 35, 42, 49, 56, 63},\n",
       " '8': {8, 16, 24, 32, 40, 48, 56, 64, 72},\n",
       " '9': {9, 18, 27, 36, 45, 54, 63, 72, 81}}"
      ]
     },
     "execution_count": 18,
     "metadata": {},
     "output_type": "execute_result"
    }
   ],
   "source": [
    "import pandas as pd\n",
    "columns = ['1','2','3','4','5','6','7','8','9']\n",
    "multi_list = {}\n",
    "\n",
    "for i in columns:\n",
    "    multi_dict[i] = [int(i)*j for j in range(1,10)]\n",
    "\n",
    "df = pd.DataFrame([])"
   ]
  }
 ],
 "metadata": {
  "kernelspec": {
   "display_name": "Python 3 (ipykernel)",
   "language": "python",
   "name": "python3"
  },
  "language_info": {
   "codemirror_mode": {
    "name": "ipython",
    "version": 3
   },
   "file_extension": ".py",
   "mimetype": "text/x-python",
   "name": "python",
   "nbconvert_exporter": "python",
   "pygments_lexer": "ipython3",
   "version": "3.11.0"
  }
 },
 "nbformat": 4,
 "nbformat_minor": 5
}
