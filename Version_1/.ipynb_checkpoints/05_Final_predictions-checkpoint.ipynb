{
 "cells": [
  {
   "cell_type": "code",
   "execution_count": 1,
   "id": "87a474d4",
   "metadata": {},
   "outputs": [],
   "source": [
    "import cv2\n",
    "import predictions as pred"
   ]
  },
  {
   "cell_type": "code",
   "execution_count": 2,
   "id": "e83858e0",
   "metadata": {},
   "outputs": [],
   "source": [
    "img = cv2.imread(\"./data/242.jpeg\")\n",
    "cv2.namedWindow('original', cv2.WINDOW_NORMAL)\n",
    "cv2.imshow('original', img)\n",
    "cv2.waitKey(0)\n",
    "cv2.destroyAllWindows()"
   ]
  },
  {
   "cell_type": "code",
   "execution_count": 3,
   "id": "e459b6cf",
   "metadata": {},
   "outputs": [
    {
     "name": "stdout",
     "output_type": "stream",
     "text": [
      "{'NAME': ['Dr T S Reddy'], 'ORG': ['Lea Associates South Asia Pvt Ltd'], 'DES': ['Senior Consultant'], 'PHONE': ['91', '122', '66747135', '9182230'], 'EMAIL': ['tsr@lasaindia.com', 'limmappagari@ymait.com'], 'WEB': ['www.lasaindia.com']}\n"
     ]
    }
   ],
   "source": [
    "img_results, entities = pred.getPredictions(img)\n",
    "print(entities)\n",
    "cv2.namedWindow('predictions', cv2.WINDOW_NORMAL)\n",
    "cv2.imshow('predictions', img_results)\n",
    "cv2.waitKey(0)\n",
    "cv2.destroyAllWindows()\n"
   ]
  },
  {
   "cell_type": "code",
   "execution_count": null,
   "id": "77371aea",
   "metadata": {},
   "outputs": [],
   "source": []
  }
 ],
 "metadata": {
  "kernelspec": {
   "display_name": "Python 3 (ipykernel)",
   "language": "python",
   "name": "python3"
  },
  "language_info": {
   "codemirror_mode": {
    "name": "ipython",
    "version": 3
   },
   "file_extension": ".py",
   "mimetype": "text/x-python",
   "name": "python",
   "nbconvert_exporter": "python",
   "pygments_lexer": "ipython3",
   "version": "3.11.0"
  }
 },
 "nbformat": 4,
 "nbformat_minor": 5
}
